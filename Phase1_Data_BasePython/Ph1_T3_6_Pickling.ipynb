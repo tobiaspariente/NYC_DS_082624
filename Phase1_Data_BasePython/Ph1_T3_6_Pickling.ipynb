{
 "cells": [
  {
   "cell_type": "markdown",
   "id": "e2e7800a",
   "metadata": {
    "cell_style": "center",
    "slideshow": {
     "slide_type": "slide"
    }
   },
   "source": [
    "<div style=\"color:white;\n",
    "           display:fill;\n",
    "           border-radius:5px;\n",
    "           background-color:#5642C5;\n",
    "           font-size:200%;\n",
    "           font-family:Arial;letter-spacing:0.5px\">\n",
    "\n",
    "<p width = 20%, style=\"padding: 10px;\n",
    "              color:white;\">\n",
    "Base Python: Pickling\n",
    "              \n",
    "</p>\n",
    "</div>\n",
    "\n",
    "Data Science Cohort Live NYC Aug 2024\n",
    "<p>Phase 1</p>\n",
    "<br>\n",
    "<br>\n",
    "\n",
    "<div align = \"right\">\n",
    "<img src=\"Images/flatiron-school-logo.png\" align = \"right\" width=\"200\"/>\n",
    "</div>\n",
    "    \n",
    "    "
   ]
  },
  {
   "cell_type": "markdown",
   "id": "af4ba17d",
   "metadata": {
    "cell_style": "split",
    "slideshow": {
     "slide_type": "slide"
    }
   },
   "source": [
    "#### Pickling\n",
    "Save Python objects for later use:\n",
    "- Files/images.\n",
    "- Instances of class objects with saved state:\n",
    "    - Trained machine learning models.\n",
    "    - Data and ML pipelines."
   ]
  },
  {
   "cell_type": "markdown",
   "id": "4533188c",
   "metadata": {
    "cell_style": "split",
    "slideshow": {
     "slide_type": "fragment"
    }
   },
   "source": [
    "#### What it does:\n",
    "\n",
    "- Transform and save object into binary file.\n",
    "- Not human readable.\n",
    "- Pickled file can be loaded into Python: \n",
    "    - Loads object\n",
    "    - Has saved attributes ready to go."
   ]
  },
  {
   "cell_type": "markdown",
   "id": "e8e483e8",
   "metadata": {
    "slideshow": {
     "slide_type": "slide"
    }
   },
   "source": [
    "#### DANGER: Only load pickled files from trusted sources. Can have executable code!"
   ]
  },
  {
   "cell_type": "markdown",
   "id": "098acf1a",
   "metadata": {
    "slideshow": {
     "slide_type": "slide"
    }
   },
   "source": [
    "You'll be using this later in the course:\n",
    "- to save your own models.\n",
    "- load/use them in other parts of a project.\n",
    "\n",
    "Let's see some simple examples:"
   ]
  },
  {
   "cell_type": "markdown",
   "id": "a1b591de",
   "metadata": {
    "slideshow": {
     "slide_type": "slide"
    }
   },
   "source": [
    "#### Pickling an object"
   ]
  },
  {
   "cell_type": "code",
   "execution_count": 2,
   "id": "63d183c8",
   "metadata": {
    "slideshow": {
     "slide_type": "fragment"
    }
   },
   "outputs": [],
   "source": [
    "# necessary to pickle files\n",
    "import pickle\n",
    "# let's load a csv file\n",
    "import csv"
   ]
  },
  {
   "cell_type": "markdown",
   "id": "9495427e",
   "metadata": {
    "slideshow": {
     "slide_type": "slide"
    }
   },
   "source": [
    "Load our old track meet data via csv dict reader:"
   ]
  },
  {
   "cell_type": "code",
   "execution_count": 3,
   "id": "fa824279",
   "metadata": {
    "cell_style": "center",
    "slideshow": {
     "slide_type": "fragment"
    }
   },
   "outputs": [],
   "source": [
    "with open('Data/track_times_header.csv') as f:\n",
    "    colnames = next(f).strip().split(\",\")\n",
    "    csv_reader = csv.DictReader(f, fieldnames = colnames,  quoting=csv.QUOTE_NONNUMERIC)\n",
    "    data = list(csv_reader)"
   ]
  },
  {
   "cell_type": "markdown",
   "id": "cfa6fe15",
   "metadata": {
    "slideshow": {
     "slide_type": "slide"
    }
   },
   "source": [
    "Python object with our track meet data in dict form with correct types:"
   ]
  },
  {
   "cell_type": "code",
<<<<<<< HEAD
   "execution_count": 4,
=======
   "execution_count": 3,
>>>>>>> 7ba453a1e15ecfc43bf642f5d79f179bd0116172
   "id": "e93c7a93",
   "metadata": {
    "slideshow": {
     "slide_type": "fragment"
    }
   },
   "outputs": [
    {
     "data": {
      "text/plain": [
       "[{'Meet 1': 13.1, 'Meet 2': 13.59, 'Meet 3': 13.44},\n",
       " {'Meet 1': 13.93, 'Meet 2': 13.85, 'Meet 3': 13.47},\n",
       " {'Meet 1': 14.12, 'Meet 2': 14.41, 'Meet 3': 13.89},\n",
       " {'Meet 1': 14.42, 'Meet 2': 13.55, 'Meet 3': 13.43}]"
      ]
     },
<<<<<<< HEAD
     "execution_count": 4,
=======
     "execution_count": 3,
>>>>>>> 7ba453a1e15ecfc43bf642f5d79f179bd0116172
     "metadata": {},
     "output_type": "execute_result"
    }
   ],
   "source": [
    "data"
   ]
  },
  {
   "cell_type": "markdown",
   "id": "42009614",
   "metadata": {
    "slideshow": {
     "slide_type": "slide"
    }
   },
   "source": [
    "Imagine:\n",
    "- Don't want to save this to text.\n",
    "- Want to load back directly as previous Python dict."
   ]
  },
  {
   "cell_type": "markdown",
   "id": "01f25b51",
   "metadata": {
    "slideshow": {
     "slide_type": "slide"
    }
   },
   "source": [
    "Serializing an object via pickling:\n",
    "- Saving object in binary file\n",
    "- pickle.dump(object, open(filename, \"wb\") )\n",
    "- \"wb\" = write binary"
   ]
  },
  {
   "cell_type": "code",
<<<<<<< HEAD
   "execution_count": 6,
=======
   "execution_count": 4,
>>>>>>> 7ba453a1e15ecfc43bf642f5d79f179bd0116172
   "id": "44a9e738",
   "metadata": {
    "slideshow": {
     "slide_type": "fragment"
    }
   },
   "outputs": [],
   "source": [
    "    #this is the pickling step\n",
    "pickle.dump(data, open(\"Data/data_save.pkl\", \"wb\"))"
   ]
  },
  {
   "cell_type": "markdown",
   "id": "7e4df6fd",
   "metadata": {
    "slideshow": {
     "slide_type": "slide"
    }
   },
   "source": [
    "#### Loading pickled object:\n",
    "- pickle.load(open(filename, \"rb\") )\n",
    "- \"rb\" = read binary"
   ]
  },
  {
   "cell_type": "code",
   "execution_count": 9,
   "id": "4d2bad84",
   "metadata": {
    "slideshow": {
     "slide_type": "slide"
    }
   },
   "outputs": [
    {
     "data": {
      "text/plain": [
       "[{'Meet 1': 13.1, 'Meet 2': 13.59, 'Meet 3': 13.44},\n",
       " {'Meet 1': 13.93, 'Meet 2': 13.85, 'Meet 3': 13.47},\n",
       " {'Meet 1': 14.12, 'Meet 2': 14.41, 'Meet 3': 13.89},\n",
       " {'Meet 1': 14.42, 'Meet 2': 13.55, 'Meet 3': 13.43}]"
      ]
     },
     "execution_count": 9,
     "metadata": {},
     "output_type": "execute_result"
    }
   ],
   "source": [
    "#### Load pickled object:\n",
    "loaded_data = pickle.load(open('Data/data_save.pkl', 'rb'))\n",
    "loaded_data"
   ]
  },
  {
   "cell_type": "markdown",
   "id": "705ad70d",
   "metadata": {
    "slideshow": {
     "slide_type": "slide"
    }
   },
   "source": [
    "The loaded pickled file is a Python object: \n",
    "- A dict with our keys and values in the right type format.\n",
    "\n",
    "Can save/load all kinds of Python objects:\n",
    "- matplotlib image objects.\n",
    "- Scikit-learn/statsmodel model instances.\n",
    "- Bokeh/plotly interactive plots, etc."
   ]
  },
  {
   "cell_type": "markdown",
   "id": "17c36148",
   "metadata": {
    "slideshow": {
     "slide_type": "slide"
    }
   },
   "source": [
    "Dont believe me?\n",
    "- Unpickle plot.pkl"
   ]
  },
  {
   "cell_type": "code",
   "execution_count": 12,
   "id": "449f805e",
   "metadata": {
    "scrolled": true,
    "slideshow": {
     "slide_type": "subslide"
    }
   },
   "outputs": [
    {
     "data": {
<<<<<<< HEAD
      "image/png": "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",
=======
>>>>>>> 7ba453a1e15ecfc43bf642f5d79f179bd0116172
      "text/plain": [
       "<matplotlib.collections.PathCollection at 0x290bcdf3250>"
      ]
     },
     "execution_count": 12,
     "metadata": {},
     "output_type": "execute_result"
    },
    {
     "data": {
      "image/png": "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",
      "text/plain": [
       "<Figure size 640x480 with 1 Axes>"
      ]
     },
     "metadata": {},
     "output_type": "display_data"
    }
   ],
   "source": [
    "import matplotlib.pyplot as plt\n",
    "\n",
    "fig, ax = plt.subplots()\n",
    "ax.scatter(x = [1,2,3], y = [0.5, .4, 1])"
   ]
  },
  {
   "cell_type": "code",
   "execution_count": 14,
   "id": "6365de8b",
   "metadata": {},
   "outputs": [],
   "source": [
    "pickle.dump(fig, open(\"new_plot.pkl\", \"wb\"))"
   ]
  },
  {
   "cell_type": "code",
   "execution_count": 16,
   "id": "ae7b578a",
   "metadata": {},
   "outputs": [],
   "source": [
    "fig2 = pickle.load(open(\"new_plot.pkl\", \"rb\"))"
   ]
  },
  {
   "cell_type": "code",
   "execution_count": 18,
   "id": "469c3889",
   "metadata": {
    "slideshow": {
     "slide_type": "fragment"
    }
   },
   "outputs": [
    {
     "data": {
      "text/plain": [
       "matplotlib.figure.Figure"
      ]
     },
     "execution_count": 18,
     "metadata": {},
     "output_type": "execute_result"
    }
   ],
   "source": [
    "type(fig2)"
   ]
  },
  {
   "cell_type": "code",
   "execution_count": null,
   "id": "8f1e0cca",
   "metadata": {},
   "outputs": [],
   "source": []
  }
 ],
 "metadata": {
  "celltoolbar": "Slideshow",
  "kernelspec": {
   "display_name": "Python 3 (ipykernel)",
   "language": "python",
   "name": "python3"
  },
  "language_info": {
   "codemirror_mode": {
    "name": "ipython",
    "version": 3
   },
   "file_extension": ".py",
   "mimetype": "text/x-python",
   "name": "python",
   "nbconvert_exporter": "python",
   "pygments_lexer": "ipython3",
   "version": "3.12.4"
  }
 },
 "nbformat": 4,
 "nbformat_minor": 5
}
